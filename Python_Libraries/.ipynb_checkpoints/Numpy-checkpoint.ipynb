{
 "cells": [
  {
   "cell_type": "markdown",
   "id": "e964fa08",
   "metadata": {},
   "source": [
    "# NumPy"
   ]
  },
  {
   "cell_type": "markdown",
   "id": "61e594e7",
   "metadata": {},
   "source": [
    "- A system of dealing with arrays in a computing language that very fast and efficient"
   ]
  },
  {
   "cell_type": "code",
   "execution_count": 1,
   "id": "07db7e37",
   "metadata": {},
   "outputs": [],
   "source": [
    "import numpy as np\n",
    "import matplotlib.pyplot as plt"
   ]
  },
  {
   "cell_type": "markdown",
   "id": "6cebb2e5",
   "metadata": {},
   "source": [
    "## Creating Arryas"
   ]
  },
  {
   "cell_type": "code",
   "execution_count": 5,
   "id": "0cd3a2bb",
   "metadata": {},
   "outputs": [
    {
     "data": {
      "text/plain": [
       "array([3, 4, 5, 5, 6, 6])"
      ]
     },
     "execution_count": 5,
     "metadata": {},
     "output_type": "execute_result"
    }
   ],
   "source": [
    "a1 = np.array([3,4,5,5,6,6])\n",
    "a1"
   ]
  },
  {
   "cell_type": "code",
   "execution_count": 11,
   "id": "e2e461b8",
   "metadata": {},
   "outputs": [
    {
     "data": {
      "text/plain": [
       "array([0., 0., 0., 0., 0., 0., 0., 0., 0., 0.])"
      ]
     },
     "execution_count": 11,
     "metadata": {},
     "output_type": "execute_result"
    }
   ],
   "source": [
    "# an array of zeros\n",
    "a2=np.zeros(10)\n",
    "a2"
   ]
  },
  {
   "cell_type": "code",
   "execution_count": 12,
   "id": "1e2fa3ac",
   "metadata": {},
   "outputs": [
    {
     "data": {
      "text/plain": [
       "array([1., 1., 1., 1., 1., 1., 1., 1., 1., 1.])"
      ]
     },
     "execution_count": 12,
     "metadata": {},
     "output_type": "execute_result"
    }
   ],
   "source": [
    "# an array of ones\n",
    "a3 = np.ones(10)\n",
    "a3"
   ]
  },
  {
   "cell_type": "code",
   "execution_count": 17,
   "id": "afc1f024",
   "metadata": {},
   "outputs": [
    {
     "data": {
      "text/plain": [
       "array([0.35483924, 0.78625365, 0.87897959, 0.27702962, 0.54013079,\n",
       "       0.12679741, 0.2728836 , 0.89269792, 0.24115575, 0.27398531])"
      ]
     },
     "execution_count": 17,
     "metadata": {},
     "output_type": "execute_result"
    }
   ],
   "source": [
    "# array of random numbers\n",
    "a4 = np.random.random(10) #uniformly between 0 and 10\n",
    "a4"
   ]
  },
  {
   "cell_type": "code",
   "execution_count": 18,
   "id": "09765da8",
   "metadata": {},
   "outputs": [
    {
     "data": {
      "text/plain": [
       "array([-0.49432412, -0.12986277, -0.43970555, -0.60420541, -0.25957341,\n",
       "       -0.0326894 ,  1.364563  ,  1.3090771 ,  0.54316248,  0.44834441])"
      ]
     },
     "execution_count": 18,
     "metadata": {},
     "output_type": "execute_result"
    }
   ],
   "source": [
    "# random gaussian numbers\n",
    "a5 = np.random.randn(10)\n",
    "a5"
   ]
  },
  {
   "cell_type": "markdown",
   "id": "2b6a753e",
   "metadata": {},
   "source": [
    "**Mostly used array generation is,  \n",
    "linspace() and arrange() -- useful for plotting.**"
   ]
  },
  {
   "cell_type": "code",
   "execution_count": 25,
   "id": "738b8dc9",
   "metadata": {},
   "outputs": [
    {
     "name": "stdout",
     "output_type": "stream",
     "text": [
      "a6 = [ 0.          0.52631579  1.05263158  1.57894737  2.10526316  2.63157895\n",
      "  3.15789474  3.68421053  4.21052632  4.73684211  5.26315789  5.78947368\n",
      "  6.31578947  6.84210526  7.36842105  7.89473684  8.42105263  8.94736842\n",
      "  9.47368421 10.        ]\n",
      "a7 = [0 2 4 6 8]\n"
     ]
    }
   ],
   "source": [
    "#linspace()\n",
    "a6 = np.linspace(0,10,20)\n",
    "print('a6 = {}'.format(a6))\n",
    "\n",
    "#arange\n",
    "a7 = np.arange(0,10,2)\n",
    "print('a7 = {}'.format(a7))"
   ]
  },
  {
   "cell_type": "markdown",
   "id": "bc2068af",
   "metadata": {},
   "source": [
    "## Array Operations\n",
    "\n",
    "* Element wise operations\n",
    "* Boolean operations\n",
    "    - returns an array of true and false\n",
    "    - this is useful for indexing\n",
    "* Useful for plotting as well    "
   ]
  },
  {
   "cell_type": "code",
   "execution_count": 26,
   "id": "6028f229",
   "metadata": {},
   "outputs": [
    {
     "data": {
      "text/plain": [
       "array([0., 1., 2., 3., 4.])"
      ]
     },
     "execution_count": 26,
     "metadata": {},
     "output_type": "execute_result"
    }
   ],
   "source": [
    "a7/2"
   ]
  },
  {
   "cell_type": "code",
   "execution_count": 27,
   "id": "2d5e522f",
   "metadata": {},
   "outputs": [
    {
     "name": "stderr",
     "output_type": "stream",
     "text": [
      "/tmp/ipykernel_33673/3092595324.py:1: RuntimeWarning: divide by zero encountered in true_divide\n",
      "  1/a7\n"
     ]
    },
    {
     "data": {
      "text/plain": [
       "array([       inf, 0.5       , 0.25      , 0.16666667, 0.125     ])"
      ]
     },
     "execution_count": 27,
     "metadata": {},
     "output_type": "execute_result"
    }
   ],
   "source": [
    "1/a7"
   ]
  },
  {
   "cell_type": "code",
   "execution_count": 28,
   "id": "986f4a8b",
   "metadata": {},
   "outputs": [
    {
     "data": {
      "text/plain": [
       "array([False,  True,  True,  True,  True])"
      ]
     },
     "execution_count": 28,
     "metadata": {},
     "output_type": "execute_result"
    }
   ],
   "source": [
    "a7>0"
   ]
  },
  {
   "cell_type": "code",
   "execution_count": 29,
   "id": "7b6d0502",
   "metadata": {},
   "outputs": [
    {
     "data": {
      "text/plain": [
       "array([2, 4, 6, 8])"
      ]
     },
     "execution_count": 29,
     "metadata": {},
     "output_type": "execute_result"
    }
   ],
   "source": [
    "a7[a7>0]"
   ]
  },
  {
   "cell_type": "code",
   "execution_count": 31,
   "id": "450af99b",
   "metadata": {},
   "outputs": [
    {
     "data": {
      "text/plain": [
       "array([0.5       , 0.25      , 0.16666667, 0.125     ])"
      ]
     },
     "execution_count": 31,
     "metadata": {},
     "output_type": "execute_result"
    }
   ],
   "source": [
    "1/a7[a7>0]"
   ]
  },
  {
   "cell_type": "code",
   "execution_count": 32,
   "id": "11219fb3",
   "metadata": {},
   "outputs": [
    {
     "data": {
      "text/plain": [
       "[<matplotlib.lines.Line2D at 0x7fd1a1b0b2e0>]"
      ]
     },
     "execution_count": 32,
     "metadata": {},
     "output_type": "execute_result"
    },
    {
     "data": {
      "image/png": "[encoded data removed]",
      "text/plain": [
       "<Figure size 432x288 with 1 Axes>"
      ]
     },
     "metadata": {
      "needs_background": "light"
     },
     "output_type": "display_data"
    }
   ],
   "source": [
    "x = a6\n",
    "y = x**2\n",
    "plt.plot(x,y)"
   ]
  },
  {
   "cell_type": "code",
   "execution_count": 34,
   "id": "ed131ee2",
   "metadata": {},
   "outputs": [
    {
     "data": {
      "text/plain": [
       "(array([7., 2., 2., 2., 1., 1., 1., 1., 2., 1.]),\n",
       " array([  0.,  10.,  20.,  30.,  40.,  50.,  60.,  70.,  80.,  90., 100.]),\n",
       " <BarContainer object of 10 artists>)"
      ]
     },
     "execution_count": 34,
     "metadata": {},
     "output_type": "execute_result"
    },
    {
     "data": {
      "image/png": "[encoded data removed]",
      "text/plain": [
       "<Figure size 432x288 with 1 Axes>"
      ]
     },
     "metadata": {
      "needs_background": "light"
     },
     "output_type": "display_data"
    }
   ],
   "source": [
    "plt.hist(y)"
   ]
  },
  {
   "cell_type": "code",
   "execution_count": 38,
   "id": "bfcaa4f3",
   "metadata": {},
   "outputs": [],
   "source": [
    "# we can chain functions together\n",
    "def f(x):\n",
    "    return x**2 * np.sin(x)/np.exp(-x)\n",
    "x = np.linspace(0,10,100)\n",
    "y = f(x)"
   ]
  },
  {
   "cell_type": "code",
   "execution_count": 39,
   "id": "eb4882df",
   "metadata": {},
   "outputs": [
    {
     "data": {
      "text/plain": [
       "[<matplotlib.lines.Line2D at 0x7fd1a19ade80>]"
      ]
     },
     "execution_count": 39,
     "metadata": {},
     "output_type": "execute_result"
    },
    {
     "data": {
      "image/png": "[encoded data removed]",
      "text/plain": [
       "<Figure size 432x288 with 1 Axes>"
      ]
     },
     "metadata": {
      "needs_background": "light"
     },
     "output_type": "display_data"
    }
   ],
   "source": [
    "plt.plot(x,y)"
   ]
  },
  {
   "cell_type": "markdown",
   "id": "16665739",
   "metadata": {},
   "source": [
    "**_many more mathematical functions are in this description https://numpy.org/doc/stable/reference/routines.math.html_**"
   ]
  },
  {
   "cell_type": "markdown",
   "id": "efe37051",
   "metadata": {},
   "source": [
    "## Array indexing and Slicing"
   ]
  },
  {
   "cell_type": "code",
   "execution_count": 40,
   "id": "b36b62c0",
   "metadata": {},
   "outputs": [
    {
     "data": {
      "text/plain": [
       "array([3, 4, 5, 5, 6, 6])"
      ]
     },
     "execution_count": 40,
     "metadata": {},
     "output_type": "execute_result"
    }
   ],
   "source": [
    "a1"
   ]
  },
  {
   "cell_type": "code",
   "execution_count": 41,
   "id": "b7e3eff2",
   "metadata": {},
   "outputs": [
    {
     "data": {
      "text/plain": [
       "5"
      ]
     },
     "execution_count": 41,
     "metadata": {},
     "output_type": "execute_result"
    }
   ],
   "source": [
    "a1[2]"
   ]
  },
  {
   "cell_type": "code",
   "execution_count": 42,
   "id": "612a395f",
   "metadata": {},
   "outputs": [
    {
     "data": {
      "text/plain": [
       "3"
      ]
     },
     "execution_count": 42,
     "metadata": {},
     "output_type": "execute_result"
    }
   ],
   "source": [
    "a1[0]"
   ]
  },
  {
   "cell_type": "code",
   "execution_count": null,
   "id": "33896467",
   "metadata": {},
   "outputs": [],
   "source": []
  },
  {
   "cell_type": "code",
   "execution_count": 55,
   "id": "932bf8fc",
   "metadata": {},
   "outputs": [
    {
     "data": {
      "text/plain": [
       "array([5])"
      ]
     },
     "execution_count": 55,
     "metadata": {},
     "output_type": "execute_result"
    }
   ],
   "source": [
    "# indexing can be complicated\n",
    "\n",
    "# start at index 2 and to the very end\n",
    "a1[2:]\n",
    "\n",
    "# start  at the end to -4\n",
    "a1[:-4]\n",
    "\n",
    "a1[-2:]\n",
    "\n",
    "a1[3:-2]"
   ]
  },
  {
   "cell_type": "code",
   "execution_count": 56,
   "id": "d633ce40",
   "metadata": {},
   "outputs": [
    {
     "data": {
      "text/plain": [
       "array([False,  True,  True,  True,  True,  True])"
      ]
     },
     "execution_count": 56,
     "metadata": {},
     "output_type": "execute_result"
    }
   ],
   "source": [
    "# boolean indexing\n",
    "a1>3"
   ]
  },
  {
   "cell_type": "code",
   "execution_count": 58,
   "id": "49e75d47",
   "metadata": {},
   "outputs": [
    {
     "data": {
      "text/plain": [
       "array([4, 5, 5, 6, 6])"
      ]
     },
     "execution_count": 58,
     "metadata": {},
     "output_type": "execute_result"
    }
   ],
   "source": [
    "a1[a1>3] # return only true elements"
   ]
  },
  {
   "cell_type": "code",
   "execution_count": 60,
   "id": "852dbd98",
   "metadata": {},
   "outputs": [
    {
     "data": {
      "text/plain": [
       "array(['naruto', 'luffy', 'dragon'], dtype='<U6')"
      ]
     },
     "execution_count": 60,
     "metadata": {},
     "output_type": "execute_result"
    }
   ],
   "source": [
    "names = np.array(['naruto', 'luffy', 'dragon'])\n",
    "names"
   ]
  },
  {
   "cell_type": "markdown",
   "id": "751993ef",
   "metadata": {},
   "source": [
    "**lambda function  \n",
    "lamda s:s[0] ---> give me a string and it willgive the first character of the string  \n",
    "vectorize() ---> acts like a for loop,  \n",
    "   create a for loop and it will go each element sequentially and it will apply it to every element**"
   ]
  },
  {
   "cell_type": "code",
   "execution_count": 63,
   "id": "8e95bacb",
   "metadata": {},
   "outputs": [
    {
     "data": {
      "text/plain": [
       "array(['n', 'l', 'd'], dtype='<U1')"
      ]
     },
     "execution_count": 63,
     "metadata": {},
     "output_type": "execute_result"
    }
   ],
   "source": [
    "np.vectorize(lambda s: s[0])(names)"
   ]
  },
  {
   "cell_type": "code",
   "execution_count": 68,
   "id": "b076703d",
   "metadata": {},
   "outputs": [
    {
     "data": {
      "text/plain": [
       "array([ True, False, False])"
      ]
     },
     "execution_count": 68,
     "metadata": {},
     "output_type": "execute_result"
    }
   ],
   "source": [
    "first_letter_n = np.vectorize(lambda s: s[0])(names)=='n'\n",
    "first_letter_n\n"
   ]
  },
  {
   "cell_type": "code",
   "execution_count": 69,
   "id": "ab57b17e",
   "metadata": {},
   "outputs": [
    {
     "data": {
      "text/plain": [
       "array(['naruto'], dtype='<U6')"
      ]
     },
     "execution_count": 69,
     "metadata": {},
     "output_type": "execute_result"
    }
   ],
   "source": [
    "names[first_letter_n]"
   ]
  },
  {
   "cell_type": "code",
   "execution_count": 70,
   "id": "ad05835e",
   "metadata": {},
   "outputs": [
    {
     "data": {
      "text/plain": [
       "array([3, 4, 5, 5, 6, 6])"
      ]
     },
     "execution_count": 70,
     "metadata": {},
     "output_type": "execute_result"
    }
   ],
   "source": [
    "a1"
   ]
  },
  {
   "cell_type": "code",
   "execution_count": 72,
   "id": "5ff4d7f3",
   "metadata": {},
   "outputs": [
    {
     "data": {
      "text/plain": [
       "array([0, 1, 2, 2, 0, 0])"
      ]
     },
     "execution_count": 72,
     "metadata": {},
     "output_type": "execute_result"
    }
   ],
   "source": [
    "a1%3 #divide by 3 and gives the reminder"
   ]
  },
  {
   "cell_type": "code",
   "execution_count": 73,
   "id": "46ac5aa0",
   "metadata": {},
   "outputs": [
    {
     "data": {
      "text/plain": [
       "array([ True, False, False, False,  True,  True])"
      ]
     },
     "execution_count": 73,
     "metadata": {},
     "output_type": "execute_result"
    }
   ],
   "source": [
    "a1%3 ==0"
   ]
  },
  {
   "cell_type": "code",
   "execution_count": 74,
   "id": "f0673fc5",
   "metadata": {},
   "outputs": [
    {
     "data": {
      "text/plain": [
       "array([3, 6, 6])"
      ]
     },
     "execution_count": 74,
     "metadata": {},
     "output_type": "execute_result"
    }
   ],
   "source": [
    "a1[a1%3 ==0]"
   ]
  },
  {
   "cell_type": "markdown",
   "id": "1f257e6d",
   "metadata": {},
   "source": [
    "## Calculus and Statistics"
   ]
  },
  {
   "cell_type": "code",
   "execution_count": null,
   "id": "71a4c7ac",
   "metadata": {},
   "outputs": [],
   "source": []
  }
 ],
 "metadata": {
  "kernelspec": {
   "display_name": "Python 3 (ipykernel)",
   "language": "python",
   "name": "python3"
  },
  "language_info": {
   "codemirror_mode": {
    "name": "ipython",
    "version": 3
   },
   "file_extension": ".py",
   "mimetype": "text/x-python",
   "name": "python",
   "nbconvert_exporter": "python",
   "pygments_lexer": "ipython3",
   "version": "3.9.5"
  }
 },
 "nbformat": 4,
 "nbformat_minor": 5
}
