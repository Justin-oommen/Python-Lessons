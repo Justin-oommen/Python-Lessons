{
 "cells": [
  {
   "cell_type": "markdown",
   "id": "e964fa08",
   "metadata": {},
   "source": [
    "# NumPy"
   ]
  },
  {
   "cell_type": "markdown",
   "id": "61e594e7",
   "metadata": {},
   "source": [
    "- A system of dealing with arrays in a computing language that very fast and efficient"
   ]
  },
  {
   "cell_type": "code",
   "execution_count": 69,
   "id": "07db7e37",
   "metadata": {},
   "outputs": [],
   "source": [
    "import numpy as np\n",
    "import matplotlib.pyplot as plt"
   ]
  },
  {
   "cell_type": "markdown",
   "id": "6cebb2e5",
   "metadata": {},
   "source": [
    "## Creating Arryas"
   ]
  },
  {
   "cell_type": "code",
   "execution_count": 15,
   "id": "0cd3a2bb",
   "metadata": {},
   "outputs": [
    {
     "data": {
      "text/plain": [
       "array([3, 4, 5, 6, 7, 8])"
      ]
     },
     "execution_count": 15,
     "metadata": {},
     "output_type": "execute_result"
    }
   ],
   "source": [
    "a1 = np.array([3,4,5,6,7,8])\n",
    "a1"
   ]
  },
  {
   "cell_type": "code",
   "execution_count": 11,
   "id": "e2e461b8",
   "metadata": {},
   "outputs": [
    {
     "data": {
      "text/plain": [
       "array([0., 0., 0., 0., 0., 0., 0., 0., 0., 0.])"
      ]
     },
     "execution_count": 11,
     "metadata": {},
     "output_type": "execute_result"
    }
   ],
   "source": [
    "# an array of zeros\n",
    "a2=np.zeros(10)\n",
    "a2"
   ]
  },
  {
   "cell_type": "code",
   "execution_count": 12,
   "id": "1e2fa3ac",
   "metadata": {},
   "outputs": [
    {
     "data": {
      "text/plain": [
       "array([1., 1., 1., 1., 1., 1., 1., 1., 1., 1.])"
      ]
     },
     "execution_count": 12,
     "metadata": {},
     "output_type": "execute_result"
    }
   ],
   "source": [
    "# an array of ones\n",
    "a3 = np.ones(10)\n",
    "a3"
   ]
  },
  {
   "cell_type": "code",
   "execution_count": 17,
   "id": "afc1f024",
   "metadata": {},
   "outputs": [
    {
     "data": {
      "text/plain": [
       "array([0.35483924, 0.78625365, 0.87897959, 0.27702962, 0.54013079,\n",
       "       0.12679741, 0.2728836 , 0.89269792, 0.24115575, 0.27398531])"
      ]
     },
     "execution_count": 17,
     "metadata": {},
     "output_type": "execute_result"
    }
   ],
   "source": [
    "# array of random numbers\n",
    "a4 = np.random.random(10) #uniformly between 0 and 10\n",
    "a4"
   ]
  },
  {
   "cell_type": "code",
   "execution_count": 3,
   "id": "09765da8",
   "metadata": {},
   "outputs": [
    {
     "data": {
      "text/plain": [
       "array([-0.25876574, -0.03275376,  0.44285868,  1.57502122, -0.56071428,\n",
       "       -0.04953676, -0.72579043, -0.18021167, -0.06308177, -1.22678044])"
      ]
     },
     "execution_count": 3,
     "metadata": {},
     "output_type": "execute_result"
    }
   ],
   "source": [
    "# random gaussian numbers. \n",
    "#Generate a mean = 0 and std.dev = 1\n",
    "a5 = np.random.randn(10)\n",
    "a5"
   ]
  },
  {
   "cell_type": "markdown",
   "id": "2b6a753e",
   "metadata": {},
   "source": [
    "**Mostly used array generation is,  \n",
    "linspace() and arrange() -- useful for plotting.**"
   ]
  },
  {
   "cell_type": "code",
   "execution_count": 25,
   "id": "738b8dc9",
   "metadata": {},
   "outputs": [
    {
     "name": "stdout",
     "output_type": "stream",
     "text": [
      "a6 = [ 0.          0.52631579  1.05263158  1.57894737  2.10526316  2.63157895\n",
      "  3.15789474  3.68421053  4.21052632  4.73684211  5.26315789  5.78947368\n",
      "  6.31578947  6.84210526  7.36842105  7.89473684  8.42105263  8.94736842\n",
      "  9.47368421 10.        ]\n",
      "a7 = [0 2 4 6 8]\n"
     ]
    }
   ],
   "source": [
    "#linspace()\n",
    "a6 = np.linspace(0,10,20)\n",
    "print('a6 = {}'.format(a6))\n",
    "\n",
    "#arange\n",
    "a7 = np.arange(0,10,2)\n",
    "print('a7 = {}'.format(a7))"
   ]
  },
  {
   "cell_type": "markdown",
   "id": "bc2068af",
   "metadata": {},
   "source": [
    "## Array Operations\n",
    "\n",
    "* Element wise operations\n",
    "* Boolean operations\n",
    "    - returns an array of true and false\n",
    "    - this is useful for indexing\n",
    "* Useful for plotting as well    "
   ]
  },
  {
   "cell_type": "code",
   "execution_count": 26,
   "id": "6028f229",
   "metadata": {},
   "outputs": [
    {
     "data": {
      "text/plain": [
       "array([0., 1., 2., 3., 4.])"
      ]
     },
     "execution_count": 26,
     "metadata": {},
     "output_type": "execute_result"
    }
   ],
   "source": [
    "a7/2"
   ]
  },
  {
   "cell_type": "code",
   "execution_count": 27,
   "id": "2d5e522f",
   "metadata": {},
   "outputs": [
    {
     "name": "stderr",
     "output_type": "stream",
     "text": [
      "/tmp/ipykernel_33673/3092595324.py:1: RuntimeWarning: divide by zero encountered in true_divide\n",
      "  1/a7\n"
     ]
    },
    {
     "data": {
      "text/plain": [
       "array([       inf, 0.5       , 0.25      , 0.16666667, 0.125     ])"
      ]
     },
     "execution_count": 27,
     "metadata": {},
     "output_type": "execute_result"
    }
   ],
   "source": [
    "1/a7"
   ]
  },
  {
   "cell_type": "code",
   "execution_count": 28,
   "id": "986f4a8b",
   "metadata": {},
   "outputs": [
    {
     "data": {
      "text/plain": [
       "array([False,  True,  True,  True,  True])"
      ]
     },
     "execution_count": 28,
     "metadata": {},
     "output_type": "execute_result"
    }
   ],
   "source": [
    "a7>0"
   ]
  },
  {
   "cell_type": "code",
   "execution_count": 29,
   "id": "7b6d0502",
   "metadata": {},
   "outputs": [
    {
     "data": {
      "text/plain": [
       "array([2, 4, 6, 8])"
      ]
     },
     "execution_count": 29,
     "metadata": {},
     "output_type": "execute_result"
    }
   ],
   "source": [
    "a7[a7>0]"
   ]
  },
  {
   "cell_type": "code",
   "execution_count": 31,
   "id": "450af99b",
   "metadata": {},
   "outputs": [
    {
     "data": {
      "text/plain": [
       "array([0.5       , 0.25      , 0.16666667, 0.125     ])"
      ]
     },
     "execution_count": 31,
     "metadata": {},
     "output_type": "execute_result"
    }
   ],
   "source": [
    "1/a7[a7>0]"
   ]
  },
  {
   "cell_type": "code",
   "execution_count": 32,
   "id": "11219fb3",
   "metadata": {},
   "outputs": [
    {
     "data": {
      "text/plain": [
       "[<matplotlib.lines.Line2D at 0x7fd1a1b0b2e0>]"
      ]
     },
     "execution_count": 32,
     "metadata": {},
     "output_type": "execute_result"
    },
    {
     "data": {
      "image/png": "[encoded data removed]",
      "text/plain": [
       "<Figure size 432x288 with 1 Axes>"
      ]
     },
     "metadata": {
      "needs_background": "light"
     },
     "output_type": "display_data"
    }
   ],
   "source": [
    "x = a6\n",
    "y = x**2\n",
    "plt.plot(x,y)"
   ]
  },
  {
   "cell_type": "code",
   "execution_count": 34,
   "id": "ed131ee2",
   "metadata": {},
   "outputs": [
    {
     "data": {
      "text/plain": [
       "(array([7., 2., 2., 2., 1., 1., 1., 1., 2., 1.]),\n",
       " array([  0.,  10.,  20.,  30.,  40.,  50.,  60.,  70.,  80.,  90., 100.]),\n",
       " <BarContainer object of 10 artists>)"
      ]
     },
     "execution_count": 34,
     "metadata": {},
     "output_type": "execute_result"
    },
    {
     "data": {
      "image/png": "[encoded data removed]",
      "text/plain": [
       "<Figure size 432x288 with 1 Axes>"
      ]
     },
     "metadata": {
      "needs_background": "light"
     },
     "output_type": "display_data"
    }
   ],
   "source": [
    "plt.hist(y)"
   ]
  },
  {
   "cell_type": "code",
   "execution_count": 38,
   "id": "bfcaa4f3",
   "metadata": {},
   "outputs": [],
   "source": [
    "# we can chain functions together\n",
    "def f(x):\n",
    "    return x**2 * np.sin(x)/np.exp(-x)\n",
    "x = np.linspace(0,10,100)\n",
    "y = f(x)"
   ]
  },
  {
   "cell_type": "code",
   "execution_count": 39,
   "id": "eb4882df",
   "metadata": {},
   "outputs": [
    {
     "data": {
      "text/plain": [
       "[<matplotlib.lines.Line2D at 0x7fd1a19ade80>]"
      ]
     },
     "execution_count": 39,
     "metadata": {},
     "output_type": "execute_result"
    },
    {
     "data": {
      "image/png": "[encoded data removed]",
      "text/plain": [
       "<Figure size 432x288 with 1 Axes>"
      ]
     },
     "metadata": {
      "needs_background": "light"
     },
     "output_type": "display_data"
    }
   ],
   "source": [
    "plt.plot(x,y)"
   ]
  },
  {
   "cell_type": "markdown",
   "id": "16665739",
   "metadata": {},
   "source": [
    "**_many more mathematical functions are in this description https://numpy.org/doc/stable/reference/routines.math.html_**"
   ]
  },
  {
   "cell_type": "markdown",
   "id": "efe37051",
   "metadata": {},
   "source": [
    "## Array indexing and Slicing"
   ]
  },
  {
   "cell_type": "code",
   "execution_count": 16,
   "id": "b36b62c0",
   "metadata": {},
   "outputs": [
    {
     "data": {
      "text/plain": [
       "array([3, 4, 5, 6, 7, 8])"
      ]
     },
     "execution_count": 16,
     "metadata": {},
     "output_type": "execute_result"
    }
   ],
   "source": [
    "a1"
   ]
  },
  {
   "cell_type": "code",
   "execution_count": 19,
   "id": "b7e3eff2",
   "metadata": {},
   "outputs": [
    {
     "data": {
      "text/plain": [
       "5"
      ]
     },
     "execution_count": 19,
     "metadata": {},
     "output_type": "execute_result"
    }
   ],
   "source": [
    "a1[2]"
   ]
  },
  {
   "cell_type": "code",
   "execution_count": 21,
   "id": "612a395f",
   "metadata": {},
   "outputs": [
    {
     "data": {
      "text/plain": [
       "array([4, 5, 6, 7, 8])"
      ]
     },
     "execution_count": 21,
     "metadata": {},
     "output_type": "execute_result"
    }
   ],
   "source": [
    "a1[1:]"
   ]
  },
  {
   "cell_type": "code",
   "execution_count": null,
   "id": "33896467",
   "metadata": {},
   "outputs": [],
   "source": []
  },
  {
   "cell_type": "code",
   "execution_count": 18,
   "id": "932bf8fc",
   "metadata": {},
   "outputs": [
    {
     "data": {
      "text/plain": [
       "array([6])"
      ]
     },
     "execution_count": 18,
     "metadata": {},
     "output_type": "execute_result"
    }
   ],
   "source": [
    "# indexing can be complicated\n",
    "\n",
    "# start at index 2 and to the very end\n",
    "a1[2:]\n",
    "\n",
    "# start  at the end to -4\n",
    "a1[:-4]\n",
    "\n",
    "a1[-2:]\n",
    "\n",
    "a1[3:-2]"
   ]
  },
  {
   "cell_type": "code",
   "execution_count": 56,
   "id": "d633ce40",
   "metadata": {},
   "outputs": [
    {
     "data": {
      "text/plain": [
       "array([False,  True,  True,  True,  True,  True])"
      ]
     },
     "execution_count": 56,
     "metadata": {},
     "output_type": "execute_result"
    }
   ],
   "source": [
    "# boolean indexing\n",
    "a1>3"
   ]
  },
  {
   "cell_type": "code",
   "execution_count": 58,
   "id": "49e75d47",
   "metadata": {},
   "outputs": [
    {
     "data": {
      "text/plain": [
       "array([4, 5, 5, 6, 6])"
      ]
     },
     "execution_count": 58,
     "metadata": {},
     "output_type": "execute_result"
    }
   ],
   "source": [
    "a1[a1>3] # return only true elements"
   ]
  },
  {
   "cell_type": "code",
   "execution_count": 60,
   "id": "852dbd98",
   "metadata": {},
   "outputs": [
    {
     "data": {
      "text/plain": [
       "array(['naruto', 'luffy', 'dragon'], dtype='<U6')"
      ]
     },
     "execution_count": 60,
     "metadata": {},
     "output_type": "execute_result"
    }
   ],
   "source": [
    "names = np.array(['naruto', 'luffy', 'dragon'])\n",
    "names"
   ]
  },
  {
   "cell_type": "markdown",
   "id": "751993ef",
   "metadata": {},
   "source": [
    "**lambda function  \n",
    "lamda s:s[0] ---> give me a string and it willgive the first character of the string  \n",
    "vectorize() ---> acts like a for loop,  \n",
    "   create a for loop and it will go each element sequentially and it will apply it to every element**"
   ]
  },
  {
   "cell_type": "code",
   "execution_count": 63,
   "id": "8e95bacb",
   "metadata": {},
   "outputs": [
    {
     "data": {
      "text/plain": [
       "array(['n', 'l', 'd'], dtype='<U1')"
      ]
     },
     "execution_count": 63,
     "metadata": {},
     "output_type": "execute_result"
    }
   ],
   "source": [
    "np.vectorize(lambda s: s[0])(names)"
   ]
  },
  {
   "cell_type": "code",
   "execution_count": 68,
   "id": "b076703d",
   "metadata": {},
   "outputs": [
    {
     "data": {
      "text/plain": [
       "array([ True, False, False])"
      ]
     },
     "execution_count": 68,
     "metadata": {},
     "output_type": "execute_result"
    }
   ],
   "source": [
    "first_letter_n = np.vectorize(lambda s: s[0])(names)=='n'\n",
    "first_letter_n\n"
   ]
  },
  {
   "cell_type": "code",
   "execution_count": 69,
   "id": "ab57b17e",
   "metadata": {},
   "outputs": [
    {
     "data": {
      "text/plain": [
       "array(['naruto'], dtype='<U6')"
      ]
     },
     "execution_count": 69,
     "metadata": {},
     "output_type": "execute_result"
    }
   ],
   "source": [
    "names[first_letter_n]"
   ]
  },
  {
   "cell_type": "code",
   "execution_count": 70,
   "id": "ad05835e",
   "metadata": {},
   "outputs": [
    {
     "data": {
      "text/plain": [
       "array([3, 4, 5, 5, 6, 6])"
      ]
     },
     "execution_count": 70,
     "metadata": {},
     "output_type": "execute_result"
    }
   ],
   "source": [
    "a1"
   ]
  },
  {
   "cell_type": "code",
   "execution_count": 72,
   "id": "5ff4d7f3",
   "metadata": {},
   "outputs": [
    {
     "data": {
      "text/plain": [
       "array([0, 1, 2, 2, 0, 0])"
      ]
     },
     "execution_count": 72,
     "metadata": {},
     "output_type": "execute_result"
    }
   ],
   "source": [
    "a1%3 #divide by 3 and gives the reminder"
   ]
  },
  {
   "cell_type": "code",
   "execution_count": 73,
   "id": "46ac5aa0",
   "metadata": {},
   "outputs": [
    {
     "data": {
      "text/plain": [
       "array([ True, False, False, False,  True,  True])"
      ]
     },
     "execution_count": 73,
     "metadata": {},
     "output_type": "execute_result"
    }
   ],
   "source": [
    "a1%3 ==0"
   ]
  },
  {
   "cell_type": "code",
   "execution_count": 74,
   "id": "f0673fc5",
   "metadata": {},
   "outputs": [
    {
     "data": {
      "text/plain": [
       "array([3, 6, 6])"
      ]
     },
     "execution_count": 74,
     "metadata": {},
     "output_type": "execute_result"
    }
   ],
   "source": [
    "a1[a1%3 ==0]"
   ]
  },
  {
   "cell_type": "markdown",
   "id": "1f257e6d",
   "metadata": {},
   "source": [
    "## Calculus and Statistics"
   ]
  },
  {
   "cell_type": "code",
   "execution_count": 8,
   "id": "71a4c7ac",
   "metadata": {},
   "outputs": [],
   "source": [
    "# here we are generating a gaussian at first with mean = 0 and std.dev = 1\n",
    "# then we are multiply by 2 make its std.dev = 2\n",
    "# add 10 to shift the mean value to mean = 10\n",
    "a1 = 2*np.random.randn(10000) + 10"
   ]
  },
  {
   "cell_type": "code",
   "execution_count": 40,
   "id": "c1fa0e76",
   "metadata": {},
   "outputs": [
    {
     "data": {
      "text/plain": [
       "[<matplotlib.lines.Line2D at 0x7ff86288b4c0>]"
      ]
     },
     "execution_count": 40,
     "metadata": {},
     "output_type": "execute_result"
    },
    {
     "data": {
      "image/png": "[encoded data removed]",
      "text/plain": [
       "<Figure size 432x288 with 1 Axes>"
      ]
     },
     "metadata": {
      "needs_background": "light"
     },
     "output_type": "display_data"
    }
   ],
   "source": [
    "a1\n",
    "plt.plot(a1)"
   ]
  },
  {
   "cell_type": "markdown",
   "id": "d4a13955",
   "metadata": {},
   "source": [
    "**mean, standard deviation and percentile of arrryas are in the following**  \n",
    "- mean()\n",
    "- std()\n",
    "- percentile() --> how many numbers are bigger than a certain thing"
   ]
  },
  {
   "cell_type": "code",
   "execution_count": 39,
   "id": "5eca02f1",
   "metadata": {},
   "outputs": [],
   "source": [
    "m = np.mean(a1)"
   ]
  },
  {
   "cell_type": "code",
   "execution_count": 11,
   "id": "a8a05a66",
   "metadata": {},
   "outputs": [
    {
     "data": {
      "text/plain": [
       "1.9977171103516391"
      ]
     },
     "execution_count": 11,
     "metadata": {},
     "output_type": "execute_result"
    }
   ],
   "source": [
    "np.std(a1)"
   ]
  },
  {
   "cell_type": "code",
   "execution_count": 36,
   "id": "0d867cdf",
   "metadata": {},
   "outputs": [],
   "source": [
    "# tell me how many values are less than 80%\n",
    "per = np.percentile(a1,80)"
   ]
  },
  {
   "cell_type": "markdown",
   "id": "45c9f867",
   "metadata": {},
   "source": [
    "**Integrals and derivatives**\n",
    "- gradient()  ---> derivative\n",
    "- cumsum()    --->integral * dx"
   ]
  },
  {
   "cell_type": "code",
   "execution_count": 32,
   "id": "eb71df1a",
   "metadata": {},
   "outputs": [],
   "source": [
    "x = np.linspace(1,10,100)\n",
    "y = 1/x**2 * np.sin(x)\n",
    "dydx = np.gradient(y,x)\n",
    "y_int = np.cumsum(y) * (x[1]-x[0]) # dy*"
   ]
  },
  {
   "cell_type": "code",
   "execution_count": 33,
   "id": "ceb48738",
   "metadata": {},
   "outputs": [
    {
     "data": {
      "text/plain": [
       "<matplotlib.legend.Legend at 0x7ff865c8cb80>"
      ]
     },
     "execution_count": 33,
     "metadata": {},
     "output_type": "execute_result"
    },
    {
     "data": {
      "image/png": "[encoded data removed]",
      "text/plain": [
       "<Figure size 432x288 with 1 Axes>"
      ]
     },
     "metadata": {
      "needs_background": "light"
     },
     "output_type": "display_data"
    }
   ],
   "source": [
    "plt.plot(x,y,label='function')\n",
    "plt.plot(x,dydx,label='derivative')\n",
    "plt.plot(x,y_int,label='integral')\n",
    "plt.legend()"
   ]
  },
  {
   "cell_type": "markdown",
   "id": "83b188a2",
   "metadata": {},
   "source": [
    "## Examples\n",
    "\n",
    "### Problem1:\n",
    "\n",
    "Let $ y = e^{-x/10} sin(x) $ Consider 10000 *x* values in the range [0,10]\n",
    "\n",
    "1. Plot the function *y* vs *x* n the range [0,10].\n",
    "2. Compute the mean and standard deviation of *y* for *x* values in [4,7].\n",
    "3. For *x* in the range [4,7], find the value $y_m$ such that 80% of *y* values are less than $y_m$\n",
    "4. Plot $dy/dx$ vs *x*\n",
    "5. Find the locations where *dy/dx* = 0"
   ]
  },
  {
   "cell_type": "code",
   "execution_count": 3,
   "id": "6aa39d01",
   "metadata": {},
   "outputs": [
    {
     "data": {
      "text/plain": [
       "Text(0, 0.5, 'y')"
      ]
     },
     "execution_count": 3,
     "metadata": {},
     "output_type": "execute_result"
    },
    {
     "data": {
      "image/png": "[encoded data removed]",
      "text/plain": [
       "<Figure size 432x288 with 1 Axes>"
      ]
     },
     "metadata": {
      "needs_background": "light"
     },
     "output_type": "display_data"
    }
   ],
   "source": [
    "N = 10000\n",
    "x = np.linspace(0,10,N+1)\n",
    "y = np.exp(-x/10) * np.sin(x)\n",
    "plt.plot(x,y)\n",
    "plt.xlabel(\"x\")\n",
    "plt.ylabel(\"y\")"
   ]
  },
  {
   "cell_type": "code",
   "execution_count": 4,
   "id": "4a748da1",
   "metadata": {},
   "outputs": [
    {
     "data": {
      "text/plain": [
       "0.31448753875085117"
      ]
     },
     "execution_count": 4,
     "metadata": {},
     "output_type": "execute_result"
    }
   ],
   "source": [
    "np.mean(y[(x>=4)*(x<=7)])\n",
    "np.std(y[(x>=4)*(x<=7)])"
   ]
  },
  {
   "cell_type": "code",
   "execution_count": 5,
   "id": "9e49517c",
   "metadata": {},
   "outputs": [
    {
     "data": {
      "text/plain": [
       "0.06145551274590662"
      ]
     },
     "execution_count": 5,
     "metadata": {},
     "output_type": "execute_result"
    }
   ],
   "source": [
    "np.percentile(y[(x>=4)*(x<=7)],80)"
   ]
  },
  {
   "cell_type": "code",
   "execution_count": 9,
   "id": "d460e1d5",
   "metadata": {},
   "outputs": [
    {
     "data": {
      "text/plain": [
       "<matplotlib.legend.Legend at 0x7f999c1158e0>"
      ]
     },
     "execution_count": 9,
     "metadata": {},
     "output_type": "execute_result"
    },
    {
     "data": {
      "image/png": "[encoded data removed]",
      "text/plain": [
       "<Figure size 432x288 with 1 Axes>"
      ]
     },
     "metadata": {
      "needs_background": "light"
     },
     "output_type": "display_data"
    }
   ],
   "source": [
    "#plotting dydx\n",
    "dydx = np.gradient(y,x)\n",
    "plt.plot(x,y,label='function')\n",
    "plt.plot(x,dydx,label='derivative')\n",
    "plt.legend()"
   ]
  },
  {
   "cell_type": "code",
   "execution_count": 30,
   "id": "f7294278",
   "metadata": {},
   "outputs": [
    {
     "data": {
      "text/plain": [
       "<matplotlib.legend.Legend at 0x7f9995403a00>"
      ]
     },
     "execution_count": 30,
     "metadata": {},
     "output_type": "execute_result"
    },
    {
     "data": {
      "image/png": "[encoded data removed]",
      "text/plain": [
       "<Figure size 432x288 with 1 Axes>"
      ]
     },
     "metadata": {
      "needs_background": "light"
     },
     "output_type": "display_data"
    }
   ],
   "source": [
    "#more comprehensively\n",
    "#plt.plot(x,y,label='function')\n",
    "plt.plot(x,np.gradient(y,x),label='derivative')\n",
    "plt.legend()\n"
   ]
  },
  {
   "cell_type": "code",
   "execution_count": 12,
   "id": "97036a39",
   "metadata": {},
   "outputs": [
    {
     "data": {
      "text/plain": [
       "array([ 0.99989984,  0.99979935,  0.9995979 , ..., -0.28918296,\n",
       "       -0.28892346, -0.28879364])"
      ]
     },
     "execution_count": 12,
     "metadata": {},
     "output_type": "execute_result"
    }
   ],
   "source": [
    "dydx"
   ]
  },
  {
   "cell_type": "code",
   "execution_count": 24,
   "id": "e3e1c974",
   "metadata": {},
   "outputs": [
    {
     "data": {
      "text/plain": [
       "array([1.472, 4.613, 7.755])"
      ]
     },
     "execution_count": 24,
     "metadata": {},
     "output_type": "execute_result"
    }
   ],
   "source": [
    "# to find the place where dy/dx = 0 is when the fuction slope = 0 or function slope (dydx) change it's value from positive to negative\n",
    "# muliplying consecutive elements in the array will give us the idea where it will be change the signs\n",
    "#to multliply consequtive arrays\n",
    "# dydx[1:] skips 0th element. so the fisrt element of this array is 1th element of dydx\n",
    "# dydx[:-1] skips the last elemet. the first element of this arrays is the 0th element of dydx\n",
    "# therefore the multiplication of these two array is indeed the mulplication of the consequtive element multiplication\n",
    "\n",
    "#since x is different length than dydx in this case. we have to cut the first element to have the same length and index that\n",
    "x[1:][dydx[1:] * dydx[:-1] < 0]\n"
   ]
  },
  {
   "cell_type": "code",
   "execution_count": null,
   "id": "b3b19de4",
   "metadata": {},
   "outputs": [],
   "source": []
  },
  {
   "cell_type": "markdown",
   "id": "385c5a39",
   "metadata": {},
   "source": [
    "### Problem2:\n",
    "\n",
    "\n",
    "Sum together every number from 0 to 10000 except for those than can be divided by 4 or 7. Do this in one line of code\n"
   ]
  },
  {
   "cell_type": "code",
   "execution_count": 40,
   "id": "d67aaec1",
   "metadata": {},
   "outputs": [
    {
     "data": {
      "text/plain": [
       "32147142"
      ]
     },
     "execution_count": 40,
     "metadata": {},
     "output_type": "execute_result"
    }
   ],
   "source": [
    "nums = np.arange(0,10001,1)\n",
    "sum(nums[(nums%4 !=0) * nums%7 !=0])"
   ]
  },
  {
   "cell_type": "code",
   "execution_count": null,
   "id": "425e2296",
   "metadata": {},
   "outputs": [],
   "source": []
  },
  {
   "cell_type": "markdown",
   "id": "eccce047",
   "metadata": {},
   "source": [
    "### Problem3: \n",
    "\n",
    "Conside the flower petal $ r(\\theta)= 1+\\frac{3}{4}sin(3\\theta) $ for $ 0 \\leq \\theta \\leq 2\\pi $\n",
    "1. Make a plot of the flower\n",
    "2. Compute the area using the calculus formula $A = \\int_{0}^{2\\pi} \\frac{1}{2}r^2d\\theta $\n",
    "3. Compute the arclength using the calculus formula $ L = \\int_{0}^{2\\pi} \\sqrt{r^2 + (\\frac{dr}{d\\theta})^2 d}\\theta $ "
   ]
  },
  {
   "cell_type": "code",
   "execution_count": 42,
   "id": "12da173c",
   "metadata": {},
   "outputs": [
    {
     "data": {
      "text/plain": [
       "[<matplotlib.lines.Line2D at 0x7f99952fe910>]"
      ]
     },
     "execution_count": 42,
     "metadata": {},
     "output_type": "execute_result"
    },
    {
     "data": {
      "image/png": "[encoded data removed]",
      "text/plain": [
       "<Figure size 432x288 with 1 Axes>"
      ]
     },
     "metadata": {
      "needs_background": "light"
     },
     "output_type": "display_data"
    }
   ],
   "source": [
    "theta = np.linspace(0,2*np.pi,1000)\n",
    "r = 1 + 3/4 * np.sin(3*theta)\n",
    "#converting to catesian coordinates from r and theta\n",
    "x = r*np.cos(theta)\n",
    "y = r*np.sin(theta)\n",
    "plt.plot(x,y)"
   ]
  },
  {
   "cell_type": "code",
   "execution_count": 61,
   "id": "7ab31858",
   "metadata": {},
   "outputs": [
    {
     "data": {
      "text/plain": [
       "Text(0, 0.5, 'integral')"
      ]
     },
     "execution_count": 61,
     "metadata": {},
     "output_type": "execute_result"
    },
    {
     "data": {
      "image/png": "[encoded data removed]",
      "text/plain": [
       "<Figure size 432x288 with 1 Axes>"
      ]
     },
     "metadata": {
      "needs_background": "light"
     },
     "output_type": "display_data"
    }
   ],
   "source": [
    "A = 1/2 * np.sum(r**2) * theta[1] - theta[0]\n",
    "A\n",
    "A = 1/2 * np.cumsum(r**2) * theta[1] - theta[0]\n",
    "plt.plot(theta,A)\n",
    "plt.xlabel('theta')\n",
    "plt.ylabel('integral')\n"
   ]
  },
  {
   "cell_type": "code",
   "execution_count": 85,
   "id": "178f96a0",
   "metadata": {},
   "outputs": [
    {
     "data": {
      "text/plain": [
       "11.640021569013872"
      ]
     },
     "execution_count": 85,
     "metadata": {},
     "output_type": "execute_result"
    },
    {
     "data": {
      "image/png": "[encoded data removed]",
      "text/plain": [
       "<Figure size 432x288 with 1 Axes>"
      ]
     },
     "metadata": {
      "needs_background": "light"
     },
     "output_type": "display_data"
    }
   ],
   "source": [
    "#arc length\n",
    "dr_dtheta = np.gradient(r,theta)\n",
    "L = np.cumsum(np.sqrt((r**2 + dr_dtheta**2))) * theta[1]-theta[0]\n",
    "plt.plot(theta,L)\n",
    "plt.xlabel('$ theta $', fontsize = 20)\n",
    "plt.ylabel('L')\n",
    "\n",
    "L = sum(np.sqrt((r**2 + dr_dtheta**2))) * theta[1]-theta[0]\n",
    "L"
   ]
  },
  {
   "cell_type": "markdown",
   "id": "803c8fb2",
   "metadata": {},
   "source": [
    "### Problem4:\n",
    "\n",
    "The power emitted by a blackbody is $ P = A\\sigma\\epsilon T^4$. After measuring the temperature of a star you find that $ T(t) = T_0\\frac{1}{1+e^{-kt}}$. Plot the total energy emitted by the star as a function of time using the fact that $ E(t) = \\int_{t'=0}^{t'=t}P(t')dt'$"
   ]
  },
  {
   "cell_type": "markdown",
   "id": "0267df65",
   "metadata": {},
   "source": [
    "$$ P  / (A \\sigma \\epsilon T_0^4) = \\left( \\frac{1}{1+e^{-kt}} \\right )^4 $$\n",
    "\n",
    "We can only deal with dimensionless quantity. \n",
    "We can't deal with P on it's own but we define the aove quantity to make we plot this instead of *P* alone which makes this to our unknown quantities and PLot it"
   ]
  },
  {
   "cell_type": "code",
   "execution_count": 88,
   "id": "c7609c7c",
   "metadata": {},
   "outputs": [],
   "source": [
    "kt = np.linspace(0,3,100)\n",
    "P_over = (1 / (1+np.exp(-kt)))**4"
   ]
  },
  {
   "cell_type": "code",
   "execution_count": 89,
   "id": "f84246db",
   "metadata": {},
   "outputs": [
    {
     "data": {
      "text/plain": [
       "[<matplotlib.lines.Line2D at 0x7f999513db50>]"
      ]
     },
     "execution_count": 89,
     "metadata": {},
     "output_type": "execute_result"
    },
    {
     "data": {
      "image/png": "[encoded data removed]",
      "text/plain": [
       "<Figure size 432x288 with 1 Axes>"
      ]
     },
     "metadata": {
      "needs_background": "light"
     },
     "output_type": "display_data"
    }
   ],
   "source": [
    "plt.plot(kt,P_over)"
   ]
  },
  {
   "cell_type": "code",
   "execution_count": 91,
   "id": "d8406fe0",
   "metadata": {},
   "outputs": [],
   "source": [
    "E = np.cumsum(P_over) * kt[1]-kt[0]"
   ]
  },
  {
   "cell_type": "code",
   "execution_count": 95,
   "id": "4072a50e",
   "metadata": {},
   "outputs": [
    {
     "data": {
      "text/plain": [
       "<matplotlib.legend.Legend at 0x7f998b954910>"
      ]
     },
     "execution_count": 95,
     "metadata": {},
     "output_type": "execute_result"
    },
    {
     "data": {
      "image/png": "[encoded data removed]",
      "text/plain": [
       "<Figure size 432x288 with 1 Axes>"
      ]
     },
     "metadata": {
      "needs_background": "light"
     },
     "output_type": "display_data"
    }
   ],
   "source": [
    "plt.plot(kt,P_over,label = 'P')\n",
    "plt.plot(kt,E, label = 'E')\n",
    "plt.xlabel('$kt$')\n",
    "plt.ylabel(r'$\\left(\\frac{k}{A/\\sigma \\epsilon T_0^4}\\right) E(kt)$', fontsize=20)\n",
    "plt.legend()"
   ]
  },
  {
   "cell_type": "markdown",
   "id": "2e274a11",
   "metadata": {},
   "source": [
    "## Multi-Dimensional Array"
   ]
  },
  {
   "cell_type": "code",
   "execution_count": null,
   "id": "5b0ac251",
   "metadata": {},
   "outputs": [],
   "source": []
  }
 ],
 "metadata": {
  "kernelspec": {
   "display_name": "Python 3 (ipykernel)",
   "language": "python",
   "name": "python3"
  },
  "language_info": {
   "codemirror_mode": {
    "name": "ipython",
    "version": 3
   },
   "file_extension": ".py",
   "mimetype": "text/x-python",
   "name": "python",
   "nbconvert_exporter": "python",
   "pygments_lexer": "ipython3",
   "version": "3.9.5"
  }
 },
 "nbformat": 4,
 "nbformat_minor": 5
}
